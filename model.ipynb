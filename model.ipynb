{
  "nbformat": 4,
  "nbformat_minor": 0,
  "metadata": {
    "colab": {
      "provenance": [],
      "gpuType": "T4"
    },
    "kernelspec": {
      "name": "python3",
      "display_name": "Python 3"
    },
    "language_info": {
      "name": "python"
    },
    "accelerator": "GPU"
  },
  "cells": [
    {
      "cell_type": "code",
      "source": [
        "import numpy as np\n",
        "import pandas as pd\n",
        "import re\n",
        "from nltk.corpus import stopwords\n",
        "from nltk.stem.porter import PorterStemmer\n",
        "from sklearn.feature_extraction.text import TfidfVectorizer\n",
        "from sklearn.model_selection import train_test_split\n",
        "from sklearn.linear_model import LogisticRegression\n",
        "from sklearn.metrics import accuracy_score\n",
        "\n"
      ],
      "metadata": {
        "id": "krii6VlryI6U"
      },
      "execution_count": null,
      "outputs": []
    },
    {
      "cell_type": "code",
      "source": [],
      "metadata": {
        "id": "X8TRwhSRLOu4"
      },
      "execution_count": null,
      "outputs": []
    },
    {
      "cell_type": "code",
      "source": [
        "import nltk\n",
        "nltk.download('stopwords')"
      ],
      "metadata": {
        "colab": {
          "base_uri": "https://localhost:8080/"
        },
        "id": "kPq25AIiyIzC",
        "outputId": "c69f89aa-5d61-49d2-e128-987295f03589"
      },
      "execution_count": null,
      "outputs": [
        {
          "output_type": "stream",
          "name": "stderr",
          "text": [
            "[nltk_data] Downloading package stopwords to /root/nltk_data...\n",
            "[nltk_data]   Package stopwords is already up-to-date!\n"
          ]
        },
        {
          "output_type": "execute_result",
          "data": {
            "text/plain": [
              "True"
            ]
          },
          "metadata": {},
          "execution_count": 64
        }
      ]
    },
    {
      "cell_type": "code",
      "source": [
        "hate_data = pd.read_csv('/content/speechtext (2).csv')\n",
        "# sexism_data = pd.read_csv('/content/sexism_data.csv')\n",
        "# pos_data = pd.read_csv('/content/pos_twitter_training.csv')"
      ],
      "metadata": {
        "id": "TIbFPcHAyIpA"
      },
      "execution_count": 109,
      "outputs": []
    },
    {
      "cell_type": "code",
      "source": [
        "hate_data.shape\n",
        "# sexism_data.shape\n"
      ],
      "metadata": {
        "colab": {
          "base_uri": "https://localhost:8080/"
        },
        "id": "Ek87c-IeWAp-",
        "outputId": "cfe493fe-d517-4193-f411-d9cdcc963764"
      },
      "execution_count": 110,
      "outputs": [
        {
          "output_type": "execute_result",
          "data": {
            "text/plain": [
              "(57815, 2)"
            ]
          },
          "metadata": {},
          "execution_count": 110
        }
      ]
    },
    {
      "cell_type": "code",
      "source": [
        "# pos_data.shape"
      ],
      "metadata": {
        "id": "d5toGApwgUnU"
      },
      "execution_count": null,
      "outputs": []
    },
    {
      "cell_type": "code",
      "source": [
        "print(hate_data)\n",
        "# print(sexism_data)\n"
      ],
      "metadata": {
        "colab": {
          "base_uri": "https://localhost:8080/"
        },
        "id": "TzzWXU-UXNqq",
        "outputId": "02c66c40-4a56-46a6-84e4-67685d912ea2"
      },
      "execution_count": 111,
      "outputs": [
        {
          "output_type": "stream",
          "name": "stdout",
          "text": [
            "       class                                               text\n",
            "0          3  RTmayasolovelyAsawomanyoushouldntcomplainabout...\n",
            "1          2  RTmleewboydatscoldtygadwnbadforcuffindathoeint...\n",
            "2          2  RTUrKindOfBrandDawgRTsbabylifeYoueverfuckabitc...\n",
            "3          2            RTCGAndersonvivabasedshelooklikeatranny\n",
            "4          2  RTShenikaRobertsTheshityouhearaboutmemightbetr...\n",
            "...      ...                                                ...\n",
            "57810      0  thisremindsmeoftheMENTIONsituationsorryiactual...\n",
            "57811      0  mkrIloveAnnieandloyldtherelikeareallifeDisneyc...\n",
            "57812      0                                NouhttptcozOreWahSS\n",
            "57813      0  mkrthewaykatlooksatAnnieislikeshesstearinginto...\n",
            "57814      0  mkromgthekissstainsonthedirtymirrorissoootacky...\n",
            "\n",
            "[57815 rows x 2 columns]\n"
          ]
        }
      ]
    },
    {
      "cell_type": "code",
      "source": [
        "# headers = ['Column1', 'Column2', 'Column3','Column4']\n",
        "\n",
        "# # Define the mapping of values to replace\n",
        "# replacement_map = {'positive': 1, 'neutral': 0, 'negative': 2}\n",
        "\n",
        "# # Replace values in the specified column\n",
        "# column_to_replace = 'Column3'  # Update with the name of the column you want to replace values in\n",
        "# pos_data[Column3] = pos_data[Column3].replace(replacement_map)\n",
        "\n",
        "# # Write the modified DataFrame back to the same CSV file to overwrite it\n",
        "# pos_data.to_csv(\"/content/pos_twitter_training.csv\", index=False)\n",
        "\n",
        "# print(\"Values replaced and CSV file overwritten successfully.\")\n",
        "# print(pos_data)"
      ],
      "metadata": {
        "colab": {
          "base_uri": "https://localhost:8080/",
          "height": 245
        },
        "id": "Haz6PjLegYCi",
        "outputId": "7af47b49-d3e8-4a8a-fb5e-8b9dfb595538"
      },
      "execution_count": null,
      "outputs": [
        {
          "output_type": "error",
          "ename": "NameError",
          "evalue": "name 'Column3' is not defined",
          "traceback": [
            "\u001b[0;31m---------------------------------------------------------------------------\u001b[0m",
            "\u001b[0;31mNameError\u001b[0m                                 Traceback (most recent call last)",
            "\u001b[0;32m<ipython-input-107-248c90ad40a4>\u001b[0m in \u001b[0;36m<cell line: 8>\u001b[0;34m()\u001b[0m\n\u001b[1;32m      6\u001b[0m \u001b[0;31m# Replace values in the specified column\u001b[0m\u001b[0;34m\u001b[0m\u001b[0;34m\u001b[0m\u001b[0m\n\u001b[1;32m      7\u001b[0m \u001b[0mcolumn_to_replace\u001b[0m \u001b[0;34m=\u001b[0m \u001b[0;34m'Column3'\u001b[0m  \u001b[0;31m# Update with the name of the column you want to replace values in\u001b[0m\u001b[0;34m\u001b[0m\u001b[0;34m\u001b[0m\u001b[0m\n\u001b[0;32m----> 8\u001b[0;31m \u001b[0mpos_data\u001b[0m\u001b[0;34m[\u001b[0m\u001b[0mColumn3\u001b[0m\u001b[0;34m]\u001b[0m \u001b[0;34m=\u001b[0m \u001b[0mpos_data\u001b[0m\u001b[0;34m[\u001b[0m\u001b[0mColumn3\u001b[0m\u001b[0;34m]\u001b[0m\u001b[0;34m.\u001b[0m\u001b[0mreplace\u001b[0m\u001b[0;34m(\u001b[0m\u001b[0mreplacement_map\u001b[0m\u001b[0;34m)\u001b[0m\u001b[0;34m\u001b[0m\u001b[0;34m\u001b[0m\u001b[0m\n\u001b[0m\u001b[1;32m      9\u001b[0m \u001b[0;34m\u001b[0m\u001b[0m\n\u001b[1;32m     10\u001b[0m \u001b[0;31m# Write the modified DataFrame back to the same CSV file to overwrite it\u001b[0m\u001b[0;34m\u001b[0m\u001b[0;34m\u001b[0m\u001b[0m\n",
            "\u001b[0;31mNameError\u001b[0m: name 'Column3' is not defined"
          ]
        }
      ]
    },
    {
      "cell_type": "code",
      "source": [
        "hate_data['class'].value_counts()\n",
        "# sexism_data['sexist'].value_counts()\n",
        "\n"
      ],
      "metadata": {
        "colab": {
          "base_uri": "https://localhost:8080/"
        },
        "id": "N4JQ0jVeT5-K",
        "outputId": "6b7f590e-3d45-4164-84b1-fa600786efe5"
      },
      "execution_count": 112,
      "outputs": [
        {
          "output_type": "execute_result",
          "data": {
            "text/plain": [
              "4    20831\n",
              "2    19190\n",
              "0    11822\n",
              "3     4163\n",
              "1     1809\n",
              "Name: class, dtype: int64"
            ]
          },
          "metadata": {},
          "execution_count": 112
        }
      ]
    },
    {
      "cell_type": "code",
      "source": [
        "# pos_data['Column3'].value_counts()"
      ],
      "metadata": {
        "id": "7IB4kqzXgd1g",
        "colab": {
          "base_uri": "https://localhost:8080/",
          "height": 513
        },
        "outputId": "e0917319-0a00-4995-d003-fc5e09b9e49e"
      },
      "execution_count": 113,
      "outputs": [
        {
          "output_type": "error",
          "ename": "KeyError",
          "evalue": "'Column3'",
          "traceback": [
            "\u001b[0;31m---------------------------------------------------------------------------\u001b[0m",
            "\u001b[0;31mKeyError\u001b[0m                                  Traceback (most recent call last)",
            "\u001b[0;32m/usr/local/lib/python3.10/dist-packages/pandas/core/indexes/base.py\u001b[0m in \u001b[0;36mget_loc\u001b[0;34m(self, key, method, tolerance)\u001b[0m\n\u001b[1;32m   3801\u001b[0m             \u001b[0;32mtry\u001b[0m\u001b[0;34m:\u001b[0m\u001b[0;34m\u001b[0m\u001b[0;34m\u001b[0m\u001b[0m\n\u001b[0;32m-> 3802\u001b[0;31m                 \u001b[0;32mreturn\u001b[0m \u001b[0mself\u001b[0m\u001b[0;34m.\u001b[0m\u001b[0m_engine\u001b[0m\u001b[0;34m.\u001b[0m\u001b[0mget_loc\u001b[0m\u001b[0;34m(\u001b[0m\u001b[0mcasted_key\u001b[0m\u001b[0;34m)\u001b[0m\u001b[0;34m\u001b[0m\u001b[0;34m\u001b[0m\u001b[0m\n\u001b[0m\u001b[1;32m   3803\u001b[0m             \u001b[0;32mexcept\u001b[0m \u001b[0mKeyError\u001b[0m \u001b[0;32mas\u001b[0m \u001b[0merr\u001b[0m\u001b[0;34m:\u001b[0m\u001b[0;34m\u001b[0m\u001b[0;34m\u001b[0m\u001b[0m\n",
            "\u001b[0;32m/usr/local/lib/python3.10/dist-packages/pandas/_libs/index.pyx\u001b[0m in \u001b[0;36mpandas._libs.index.IndexEngine.get_loc\u001b[0;34m()\u001b[0m\n",
            "\u001b[0;32m/usr/local/lib/python3.10/dist-packages/pandas/_libs/index.pyx\u001b[0m in \u001b[0;36mpandas._libs.index.IndexEngine.get_loc\u001b[0;34m()\u001b[0m\n",
            "\u001b[0;32mpandas/_libs/hashtable_class_helper.pxi\u001b[0m in \u001b[0;36mpandas._libs.hashtable.PyObjectHashTable.get_item\u001b[0;34m()\u001b[0m\n",
            "\u001b[0;32mpandas/_libs/hashtable_class_helper.pxi\u001b[0m in \u001b[0;36mpandas._libs.hashtable.PyObjectHashTable.get_item\u001b[0;34m()\u001b[0m\n",
            "\u001b[0;31mKeyError\u001b[0m: 'Column3'",
            "\nThe above exception was the direct cause of the following exception:\n",
            "\u001b[0;31mKeyError\u001b[0m                                  Traceback (most recent call last)",
            "\u001b[0;32m<ipython-input-113-05da1ab23eb5>\u001b[0m in \u001b[0;36m<cell line: 1>\u001b[0;34m()\u001b[0m\n\u001b[0;32m----> 1\u001b[0;31m \u001b[0mpos_data\u001b[0m\u001b[0;34m[\u001b[0m\u001b[0;34m'Column3'\u001b[0m\u001b[0;34m]\u001b[0m\u001b[0;34m.\u001b[0m\u001b[0mvalue_counts\u001b[0m\u001b[0;34m(\u001b[0m\u001b[0;34m)\u001b[0m\u001b[0;34m\u001b[0m\u001b[0;34m\u001b[0m\u001b[0m\n\u001b[0m",
            "\u001b[0;32m/usr/local/lib/python3.10/dist-packages/pandas/core/frame.py\u001b[0m in \u001b[0;36m__getitem__\u001b[0;34m(self, key)\u001b[0m\n\u001b[1;32m   3805\u001b[0m             \u001b[0;32mif\u001b[0m \u001b[0mself\u001b[0m\u001b[0;34m.\u001b[0m\u001b[0mcolumns\u001b[0m\u001b[0;34m.\u001b[0m\u001b[0mnlevels\u001b[0m \u001b[0;34m>\u001b[0m \u001b[0;36m1\u001b[0m\u001b[0;34m:\u001b[0m\u001b[0;34m\u001b[0m\u001b[0;34m\u001b[0m\u001b[0m\n\u001b[1;32m   3806\u001b[0m                 \u001b[0;32mreturn\u001b[0m \u001b[0mself\u001b[0m\u001b[0;34m.\u001b[0m\u001b[0m_getitem_multilevel\u001b[0m\u001b[0;34m(\u001b[0m\u001b[0mkey\u001b[0m\u001b[0;34m)\u001b[0m\u001b[0;34m\u001b[0m\u001b[0;34m\u001b[0m\u001b[0m\n\u001b[0;32m-> 3807\u001b[0;31m             \u001b[0mindexer\u001b[0m \u001b[0;34m=\u001b[0m \u001b[0mself\u001b[0m\u001b[0;34m.\u001b[0m\u001b[0mcolumns\u001b[0m\u001b[0;34m.\u001b[0m\u001b[0mget_loc\u001b[0m\u001b[0;34m(\u001b[0m\u001b[0mkey\u001b[0m\u001b[0;34m)\u001b[0m\u001b[0;34m\u001b[0m\u001b[0;34m\u001b[0m\u001b[0m\n\u001b[0m\u001b[1;32m   3808\u001b[0m             \u001b[0;32mif\u001b[0m \u001b[0mis_integer\u001b[0m\u001b[0;34m(\u001b[0m\u001b[0mindexer\u001b[0m\u001b[0;34m)\u001b[0m\u001b[0;34m:\u001b[0m\u001b[0;34m\u001b[0m\u001b[0;34m\u001b[0m\u001b[0m\n\u001b[1;32m   3809\u001b[0m                 \u001b[0mindexer\u001b[0m \u001b[0;34m=\u001b[0m \u001b[0;34m[\u001b[0m\u001b[0mindexer\u001b[0m\u001b[0;34m]\u001b[0m\u001b[0;34m\u001b[0m\u001b[0;34m\u001b[0m\u001b[0m\n",
            "\u001b[0;32m/usr/local/lib/python3.10/dist-packages/pandas/core/indexes/base.py\u001b[0m in \u001b[0;36mget_loc\u001b[0;34m(self, key, method, tolerance)\u001b[0m\n\u001b[1;32m   3802\u001b[0m                 \u001b[0;32mreturn\u001b[0m \u001b[0mself\u001b[0m\u001b[0;34m.\u001b[0m\u001b[0m_engine\u001b[0m\u001b[0;34m.\u001b[0m\u001b[0mget_loc\u001b[0m\u001b[0;34m(\u001b[0m\u001b[0mcasted_key\u001b[0m\u001b[0;34m)\u001b[0m\u001b[0;34m\u001b[0m\u001b[0;34m\u001b[0m\u001b[0m\n\u001b[1;32m   3803\u001b[0m             \u001b[0;32mexcept\u001b[0m \u001b[0mKeyError\u001b[0m \u001b[0;32mas\u001b[0m \u001b[0merr\u001b[0m\u001b[0;34m:\u001b[0m\u001b[0;34m\u001b[0m\u001b[0;34m\u001b[0m\u001b[0m\n\u001b[0;32m-> 3804\u001b[0;31m                 \u001b[0;32mraise\u001b[0m \u001b[0mKeyError\u001b[0m\u001b[0;34m(\u001b[0m\u001b[0mkey\u001b[0m\u001b[0;34m)\u001b[0m \u001b[0;32mfrom\u001b[0m \u001b[0merr\u001b[0m\u001b[0;34m\u001b[0m\u001b[0;34m\u001b[0m\u001b[0m\n\u001b[0m\u001b[1;32m   3805\u001b[0m             \u001b[0;32mexcept\u001b[0m \u001b[0mTypeError\u001b[0m\u001b[0;34m:\u001b[0m\u001b[0;34m\u001b[0m\u001b[0;34m\u001b[0m\u001b[0m\n\u001b[1;32m   3806\u001b[0m                 \u001b[0;31m# If we have a listlike key, _check_indexing_error will raise\u001b[0m\u001b[0;34m\u001b[0m\u001b[0;34m\u001b[0m\u001b[0m\n",
            "\u001b[0;31mKeyError\u001b[0m: 'Column3'"
          ]
        }
      ]
    },
    {
      "cell_type": "code",
      "source": [
        "rows_to_delete = []\n",
        "for index, row in hate_data.iterrows():\n",
        "    if not (row['class'] == 0 or row['class'] == 1):\n",
        "        rows_to_delete.append(index)\n",
        "\n",
        "hate_data.drop(rows_to_delete, inplace=True)"
      ],
      "metadata": {
        "id": "Xi8c0RPELSE2"
      },
      "execution_count": 114,
      "outputs": []
    },
    {
      "cell_type": "code",
      "source": [
        "# sexism_data.shape\n"
      ],
      "metadata": {
        "id": "HMdWZWkX__gZ"
      },
      "execution_count": null,
      "outputs": []
    },
    {
      "cell_type": "code",
      "source": [
        "# pos_data.shape"
      ],
      "metadata": {
        "id": "qegz6XJ1ABpX"
      },
      "execution_count": null,
      "outputs": []
    },
    {
      "cell_type": "code",
      "source": [
        "hate_data.head()\n",
        "# sexism_data.head()\n",
        "# pos_data.head()"
      ],
      "metadata": {
        "colab": {
          "base_uri": "https://localhost:8080/",
          "height": 206
        },
        "id": "OcdbqmD54Br1",
        "outputId": "885b202a-2d9d-46fb-98c7-5d8a3fe5df97"
      },
      "execution_count": 115,
      "outputs": [
        {
          "output_type": "execute_result",
          "data": {
            "text/plain": [
              "       class                                               text\n",
              "44184      0             MENTIONididntevenknowrandomwasanoption\n",
              "44185      0                           Bottomtwoshouldvegonemkr\n",
              "44186      0  MENTIONMENTIONladybonerdeservessomuchmorecredi...\n",
              "44187      0  SheshallnowbeknownasSourpussMKRKatAndreFailedF...\n",
              "44188      0  TarahWthrewabunchofwomenunderthebussoshecouldg..."
            ],
            "text/html": [
              "\n",
              "  <div id=\"df-3d0f50a5-1581-49ea-b199-60cab7fcda12\" class=\"colab-df-container\">\n",
              "    <div>\n",
              "<style scoped>\n",
              "    .dataframe tbody tr th:only-of-type {\n",
              "        vertical-align: middle;\n",
              "    }\n",
              "\n",
              "    .dataframe tbody tr th {\n",
              "        vertical-align: top;\n",
              "    }\n",
              "\n",
              "    .dataframe thead th {\n",
              "        text-align: right;\n",
              "    }\n",
              "</style>\n",
              "<table border=\"1\" class=\"dataframe\">\n",
              "  <thead>\n",
              "    <tr style=\"text-align: right;\">\n",
              "      <th></th>\n",
              "      <th>class</th>\n",
              "      <th>text</th>\n",
              "    </tr>\n",
              "  </thead>\n",
              "  <tbody>\n",
              "    <tr>\n",
              "      <th>44184</th>\n",
              "      <td>0</td>\n",
              "      <td>MENTIONididntevenknowrandomwasanoption</td>\n",
              "    </tr>\n",
              "    <tr>\n",
              "      <th>44185</th>\n",
              "      <td>0</td>\n",
              "      <td>Bottomtwoshouldvegonemkr</td>\n",
              "    </tr>\n",
              "    <tr>\n",
              "      <th>44186</th>\n",
              "      <td>0</td>\n",
              "      <td>MENTIONMENTIONladybonerdeservessomuchmorecredi...</td>\n",
              "    </tr>\n",
              "    <tr>\n",
              "      <th>44187</th>\n",
              "      <td>0</td>\n",
              "      <td>SheshallnowbeknownasSourpussMKRKatAndreFailedF...</td>\n",
              "    </tr>\n",
              "    <tr>\n",
              "      <th>44188</th>\n",
              "      <td>0</td>\n",
              "      <td>TarahWthrewabunchofwomenunderthebussoshecouldg...</td>\n",
              "    </tr>\n",
              "  </tbody>\n",
              "</table>\n",
              "</div>\n",
              "    <div class=\"colab-df-buttons\">\n",
              "\n",
              "  <div class=\"colab-df-container\">\n",
              "    <button class=\"colab-df-convert\" onclick=\"convertToInteractive('df-3d0f50a5-1581-49ea-b199-60cab7fcda12')\"\n",
              "            title=\"Convert this dataframe to an interactive table.\"\n",
              "            style=\"display:none;\">\n",
              "\n",
              "  <svg xmlns=\"http://www.w3.org/2000/svg\" height=\"24px\" viewBox=\"0 -960 960 960\">\n",
              "    <path d=\"M120-120v-720h720v720H120Zm60-500h600v-160H180v160Zm220 220h160v-160H400v160Zm0 220h160v-160H400v160ZM180-400h160v-160H180v160Zm440 0h160v-160H620v160ZM180-180h160v-160H180v160Zm440 0h160v-160H620v160Z\"/>\n",
              "  </svg>\n",
              "    </button>\n",
              "\n",
              "  <style>\n",
              "    .colab-df-container {\n",
              "      display:flex;\n",
              "      gap: 12px;\n",
              "    }\n",
              "\n",
              "    .colab-df-convert {\n",
              "      background-color: #E8F0FE;\n",
              "      border: none;\n",
              "      border-radius: 50%;\n",
              "      cursor: pointer;\n",
              "      display: none;\n",
              "      fill: #1967D2;\n",
              "      height: 32px;\n",
              "      padding: 0 0 0 0;\n",
              "      width: 32px;\n",
              "    }\n",
              "\n",
              "    .colab-df-convert:hover {\n",
              "      background-color: #E2EBFA;\n",
              "      box-shadow: 0px 1px 2px rgba(60, 64, 67, 0.3), 0px 1px 3px 1px rgba(60, 64, 67, 0.15);\n",
              "      fill: #174EA6;\n",
              "    }\n",
              "\n",
              "    .colab-df-buttons div {\n",
              "      margin-bottom: 4px;\n",
              "    }\n",
              "\n",
              "    [theme=dark] .colab-df-convert {\n",
              "      background-color: #3B4455;\n",
              "      fill: #D2E3FC;\n",
              "    }\n",
              "\n",
              "    [theme=dark] .colab-df-convert:hover {\n",
              "      background-color: #434B5C;\n",
              "      box-shadow: 0px 1px 3px 1px rgba(0, 0, 0, 0.15);\n",
              "      filter: drop-shadow(0px 1px 2px rgba(0, 0, 0, 0.3));\n",
              "      fill: #FFFFFF;\n",
              "    }\n",
              "  </style>\n",
              "\n",
              "    <script>\n",
              "      const buttonEl =\n",
              "        document.querySelector('#df-3d0f50a5-1581-49ea-b199-60cab7fcda12 button.colab-df-convert');\n",
              "      buttonEl.style.display =\n",
              "        google.colab.kernel.accessAllowed ? 'block' : 'none';\n",
              "\n",
              "      async function convertToInteractive(key) {\n",
              "        const element = document.querySelector('#df-3d0f50a5-1581-49ea-b199-60cab7fcda12');\n",
              "        const dataTable =\n",
              "          await google.colab.kernel.invokeFunction('convertToInteractive',\n",
              "                                                    [key], {});\n",
              "        if (!dataTable) return;\n",
              "\n",
              "        const docLinkHtml = 'Like what you see? Visit the ' +\n",
              "          '<a target=\"_blank\" href=https://colab.research.google.com/notebooks/data_table.ipynb>data table notebook</a>'\n",
              "          + ' to learn more about interactive tables.';\n",
              "        element.innerHTML = '';\n",
              "        dataTable['output_type'] = 'display_data';\n",
              "        await google.colab.output.renderOutput(dataTable, element);\n",
              "        const docLink = document.createElement('div');\n",
              "        docLink.innerHTML = docLinkHtml;\n",
              "        element.appendChild(docLink);\n",
              "      }\n",
              "    </script>\n",
              "  </div>\n",
              "\n",
              "\n",
              "<div id=\"df-eaf250d9-a942-437f-9f0e-bf29fd4d63e0\">\n",
              "  <button class=\"colab-df-quickchart\" onclick=\"quickchart('df-eaf250d9-a942-437f-9f0e-bf29fd4d63e0')\"\n",
              "            title=\"Suggest charts\"\n",
              "            style=\"display:none;\">\n",
              "\n",
              "<svg xmlns=\"http://www.w3.org/2000/svg\" height=\"24px\"viewBox=\"0 0 24 24\"\n",
              "     width=\"24px\">\n",
              "    <g>\n",
              "        <path d=\"M19 3H5c-1.1 0-2 .9-2 2v14c0 1.1.9 2 2 2h14c1.1 0 2-.9 2-2V5c0-1.1-.9-2-2-2zM9 17H7v-7h2v7zm4 0h-2V7h2v10zm4 0h-2v-4h2v4z\"/>\n",
              "    </g>\n",
              "</svg>\n",
              "  </button>\n",
              "\n",
              "<style>\n",
              "  .colab-df-quickchart {\n",
              "      --bg-color: #E8F0FE;\n",
              "      --fill-color: #1967D2;\n",
              "      --hover-bg-color: #E2EBFA;\n",
              "      --hover-fill-color: #174EA6;\n",
              "      --disabled-fill-color: #AAA;\n",
              "      --disabled-bg-color: #DDD;\n",
              "  }\n",
              "\n",
              "  [theme=dark] .colab-df-quickchart {\n",
              "      --bg-color: #3B4455;\n",
              "      --fill-color: #D2E3FC;\n",
              "      --hover-bg-color: #434B5C;\n",
              "      --hover-fill-color: #FFFFFF;\n",
              "      --disabled-bg-color: #3B4455;\n",
              "      --disabled-fill-color: #666;\n",
              "  }\n",
              "\n",
              "  .colab-df-quickchart {\n",
              "    background-color: var(--bg-color);\n",
              "    border: none;\n",
              "    border-radius: 50%;\n",
              "    cursor: pointer;\n",
              "    display: none;\n",
              "    fill: var(--fill-color);\n",
              "    height: 32px;\n",
              "    padding: 0;\n",
              "    width: 32px;\n",
              "  }\n",
              "\n",
              "  .colab-df-quickchart:hover {\n",
              "    background-color: var(--hover-bg-color);\n",
              "    box-shadow: 0 1px 2px rgba(60, 64, 67, 0.3), 0 1px 3px 1px rgba(60, 64, 67, 0.15);\n",
              "    fill: var(--button-hover-fill-color);\n",
              "  }\n",
              "\n",
              "  .colab-df-quickchart-complete:disabled,\n",
              "  .colab-df-quickchart-complete:disabled:hover {\n",
              "    background-color: var(--disabled-bg-color);\n",
              "    fill: var(--disabled-fill-color);\n",
              "    box-shadow: none;\n",
              "  }\n",
              "\n",
              "  .colab-df-spinner {\n",
              "    border: 2px solid var(--fill-color);\n",
              "    border-color: transparent;\n",
              "    border-bottom-color: var(--fill-color);\n",
              "    animation:\n",
              "      spin 1s steps(1) infinite;\n",
              "  }\n",
              "\n",
              "  @keyframes spin {\n",
              "    0% {\n",
              "      border-color: transparent;\n",
              "      border-bottom-color: var(--fill-color);\n",
              "      border-left-color: var(--fill-color);\n",
              "    }\n",
              "    20% {\n",
              "      border-color: transparent;\n",
              "      border-left-color: var(--fill-color);\n",
              "      border-top-color: var(--fill-color);\n",
              "    }\n",
              "    30% {\n",
              "      border-color: transparent;\n",
              "      border-left-color: var(--fill-color);\n",
              "      border-top-color: var(--fill-color);\n",
              "      border-right-color: var(--fill-color);\n",
              "    }\n",
              "    40% {\n",
              "      border-color: transparent;\n",
              "      border-right-color: var(--fill-color);\n",
              "      border-top-color: var(--fill-color);\n",
              "    }\n",
              "    60% {\n",
              "      border-color: transparent;\n",
              "      border-right-color: var(--fill-color);\n",
              "    }\n",
              "    80% {\n",
              "      border-color: transparent;\n",
              "      border-right-color: var(--fill-color);\n",
              "      border-bottom-color: var(--fill-color);\n",
              "    }\n",
              "    90% {\n",
              "      border-color: transparent;\n",
              "      border-bottom-color: var(--fill-color);\n",
              "    }\n",
              "  }\n",
              "</style>\n",
              "\n",
              "  <script>\n",
              "    async function quickchart(key) {\n",
              "      const quickchartButtonEl =\n",
              "        document.querySelector('#' + key + ' button');\n",
              "      quickchartButtonEl.disabled = true;  // To prevent multiple clicks.\n",
              "      quickchartButtonEl.classList.add('colab-df-spinner');\n",
              "      try {\n",
              "        const charts = await google.colab.kernel.invokeFunction(\n",
              "            'suggestCharts', [key], {});\n",
              "      } catch (error) {\n",
              "        console.error('Error during call to suggestCharts:', error);\n",
              "      }\n",
              "      quickchartButtonEl.classList.remove('colab-df-spinner');\n",
              "      quickchartButtonEl.classList.add('colab-df-quickchart-complete');\n",
              "    }\n",
              "    (() => {\n",
              "      let quickchartButtonEl =\n",
              "        document.querySelector('#df-eaf250d9-a942-437f-9f0e-bf29fd4d63e0 button');\n",
              "      quickchartButtonEl.style.display =\n",
              "        google.colab.kernel.accessAllowed ? 'block' : 'none';\n",
              "    })();\n",
              "  </script>\n",
              "</div>\n",
              "\n",
              "    </div>\n",
              "  </div>\n"
            ]
          },
          "metadata": {},
          "execution_count": 115
        }
      ]
    },
    {
      "cell_type": "code",
      "source": [
        "nan_values = hate_data.isna()\n",
        "print(nan_values)"
      ],
      "metadata": {
        "id": "Mu6LECpHAJXU",
        "colab": {
          "base_uri": "https://localhost:8080/"
        },
        "outputId": "6aeba69c-b8ad-4b4d-f066-d79bbda0ee33"
      },
      "execution_count": 116,
      "outputs": [
        {
          "output_type": "stream",
          "name": "stdout",
          "text": [
            "       class   text\n",
            "44184  False  False\n",
            "44185  False  False\n",
            "44186  False  False\n",
            "44187  False  False\n",
            "44188  False  False\n",
            "...      ...    ...\n",
            "57810  False  False\n",
            "57811  False  False\n",
            "57812  False  False\n",
            "57813  False  False\n",
            "57814  False  False\n",
            "\n",
            "[13631 rows x 2 columns]\n"
          ]
        }
      ]
    },
    {
      "cell_type": "code",
      "source": [
        "hate_data_cleaned = hate_data.fillna(0)\n",
        "print(\"DataFrame with NaN replaced:\", hate_data_cleaned)"
      ],
      "metadata": {
        "id": "dC72AXpWPRSW",
        "colab": {
          "base_uri": "https://localhost:8080/"
        },
        "outputId": "b907e928-8b37-4dc7-9e64-eb93d4e4288a"
      },
      "execution_count": 117,
      "outputs": [
        {
          "output_type": "stream",
          "name": "stdout",
          "text": [
            "DataFrame with NaN replaced:        class                                               text\n",
            "44184      0             MENTIONididntevenknowrandomwasanoption\n",
            "44185      0                           Bottomtwoshouldvegonemkr\n",
            "44186      0  MENTIONMENTIONladybonerdeservessomuchmorecredi...\n",
            "44187      0  SheshallnowbeknownasSourpussMKRKatAndreFailedF...\n",
            "44188      0  TarahWthrewabunchofwomenunderthebussoshecouldg...\n",
            "...      ...                                                ...\n",
            "57810      0  thisremindsmeoftheMENTIONsituationsorryiactual...\n",
            "57811      0  mkrIloveAnnieandloyldtherelikeareallifeDisneyc...\n",
            "57812      0                                NouhttptcozOreWahSS\n",
            "57813      0  mkrthewaykatlooksatAnnieislikeshesstearinginto...\n",
            "57814      0  mkromgthekissstainsonthedirtymirrorissoootacky...\n",
            "\n",
            "[13631 rows x 2 columns]\n"
          ]
        }
      ]
    },
    {
      "cell_type": "code",
      "source": [
        "# pos_data.head()"
      ],
      "metadata": {
        "id": "EQ7iKsNSAK3c"
      },
      "execution_count": null,
      "outputs": []
    },
    {
      "cell_type": "code",
      "source": [
        "hate_data.isnull().sum()\n",
        "# sexism_data.isnull().sum()\n",
        "# pos_data.isnull().sum()"
      ],
      "metadata": {
        "colab": {
          "base_uri": "https://localhost:8080/"
        },
        "id": "_xnFRh314Cnu",
        "outputId": "3f6f4f8c-e3ed-4599-addd-52efc7544572"
      },
      "execution_count": 118,
      "outputs": [
        {
          "output_type": "execute_result",
          "data": {
            "text/plain": [
              "class    0\n",
              "text     0\n",
              "dtype: int64"
            ]
          },
          "metadata": {},
          "execution_count": 118
        }
      ]
    },
    {
      "cell_type": "code",
      "source": [
        "hate_data['text'].value_counts\n",
        "# sexism_data['text'].value_counts\n",
        "# pos_data[' enter the target column name '].value_counts"
      ],
      "metadata": {
        "colab": {
          "base_uri": "https://localhost:8080/"
        },
        "id": "qijrUi_o4VBc",
        "outputId": "5480cc1d-acfe-4689-ec3f-8e51d60f2a64"
      },
      "execution_count": 119,
      "outputs": [
        {
          "output_type": "execute_result",
          "data": {
            "text/plain": [
              "<bound method IndexOpsMixin.value_counts of 44184               MENTIONididntevenknowrandomwasanoption\n",
              "44185                             Bottomtwoshouldvegonemkr\n",
              "44186    MENTIONMENTIONladybonerdeservessomuchmorecredi...\n",
              "44187    SheshallnowbeknownasSourpussMKRKatAndreFailedF...\n",
              "44188    TarahWthrewabunchofwomenunderthebussoshecouldg...\n",
              "                               ...                        \n",
              "57810    thisremindsmeoftheMENTIONsituationsorryiactual...\n",
              "57811    mkrIloveAnnieandloyldtherelikeareallifeDisneyc...\n",
              "57812                                  NouhttptcozOreWahSS\n",
              "57813    mkrthewaykatlooksatAnnieislikeshesstearinginto...\n",
              "57814    mkromgthekissstainsonthedirtymirrorissoootacky...\n",
              "Name: text, Length: 13631, dtype: object>"
            ]
          },
          "metadata": {},
          "execution_count": 119
        }
      ]
    },
    {
      "cell_type": "code",
      "source": [
        "# port_stem = PorterStemmer()\n"
      ],
      "metadata": {
        "id": "QKfG91Lz5igE"
      },
      "execution_count": null,
      "outputs": []
    },
    {
      "cell_type": "code",
      "source": [
        "# def stemming(content):\n",
        "#   stemmed_content =  re.sub('[a-zA-Z]',' ',content)\n",
        "#   stemmed_content = stemmed_content.lower\n",
        "#   stemmed_content = stemmed_content.split\n",
        "#   stemmed_content = [port_stem.stem(word) for word in stemmed_content if not word in stopwords.words('english')]\n",
        "#   stemmed_contect = ' '.join(stemmed_content)\n",
        "#   return stemmed_content\n",
        "\n",
        "  # hate_data['class'] = hate_data['text'].apply(stemming)\n",
        "  # sexism_data['stemmed_content'] = sexism_data['text'].apply(stemming)\n",
        "  # pos_data['stemmed_content'] = pos_data['text'].apply(stemming)"
      ],
      "metadata": {
        "id": "sN7I19VO52km"
      },
      "execution_count": null,
      "outputs": []
    },
    {
      "cell_type": "code",
      "source": [
        "hate_data.head()\n",
        "# sexism_data.head()\n",
        "# pos_data.head()\n"
      ],
      "metadata": {
        "colab": {
          "base_uri": "https://localhost:8080/",
          "height": 206
        },
        "id": "ZLMjAfL07Mx2",
        "outputId": "121a6193-6abe-4d19-a752-33ca303b8cad"
      },
      "execution_count": 120,
      "outputs": [
        {
          "output_type": "execute_result",
          "data": {
            "text/plain": [
              "       class                                               text\n",
              "44184      0             MENTIONididntevenknowrandomwasanoption\n",
              "44185      0                           Bottomtwoshouldvegonemkr\n",
              "44186      0  MENTIONMENTIONladybonerdeservessomuchmorecredi...\n",
              "44187      0  SheshallnowbeknownasSourpussMKRKatAndreFailedF...\n",
              "44188      0  TarahWthrewabunchofwomenunderthebussoshecouldg..."
            ],
            "text/html": [
              "\n",
              "  <div id=\"df-6863d5ff-ee24-4f40-90e8-81baf41c833f\" class=\"colab-df-container\">\n",
              "    <div>\n",
              "<style scoped>\n",
              "    .dataframe tbody tr th:only-of-type {\n",
              "        vertical-align: middle;\n",
              "    }\n",
              "\n",
              "    .dataframe tbody tr th {\n",
              "        vertical-align: top;\n",
              "    }\n",
              "\n",
              "    .dataframe thead th {\n",
              "        text-align: right;\n",
              "    }\n",
              "</style>\n",
              "<table border=\"1\" class=\"dataframe\">\n",
              "  <thead>\n",
              "    <tr style=\"text-align: right;\">\n",
              "      <th></th>\n",
              "      <th>class</th>\n",
              "      <th>text</th>\n",
              "    </tr>\n",
              "  </thead>\n",
              "  <tbody>\n",
              "    <tr>\n",
              "      <th>44184</th>\n",
              "      <td>0</td>\n",
              "      <td>MENTIONididntevenknowrandomwasanoption</td>\n",
              "    </tr>\n",
              "    <tr>\n",
              "      <th>44185</th>\n",
              "      <td>0</td>\n",
              "      <td>Bottomtwoshouldvegonemkr</td>\n",
              "    </tr>\n",
              "    <tr>\n",
              "      <th>44186</th>\n",
              "      <td>0</td>\n",
              "      <td>MENTIONMENTIONladybonerdeservessomuchmorecredi...</td>\n",
              "    </tr>\n",
              "    <tr>\n",
              "      <th>44187</th>\n",
              "      <td>0</td>\n",
              "      <td>SheshallnowbeknownasSourpussMKRKatAndreFailedF...</td>\n",
              "    </tr>\n",
              "    <tr>\n",
              "      <th>44188</th>\n",
              "      <td>0</td>\n",
              "      <td>TarahWthrewabunchofwomenunderthebussoshecouldg...</td>\n",
              "    </tr>\n",
              "  </tbody>\n",
              "</table>\n",
              "</div>\n",
              "    <div class=\"colab-df-buttons\">\n",
              "\n",
              "  <div class=\"colab-df-container\">\n",
              "    <button class=\"colab-df-convert\" onclick=\"convertToInteractive('df-6863d5ff-ee24-4f40-90e8-81baf41c833f')\"\n",
              "            title=\"Convert this dataframe to an interactive table.\"\n",
              "            style=\"display:none;\">\n",
              "\n",
              "  <svg xmlns=\"http://www.w3.org/2000/svg\" height=\"24px\" viewBox=\"0 -960 960 960\">\n",
              "    <path d=\"M120-120v-720h720v720H120Zm60-500h600v-160H180v160Zm220 220h160v-160H400v160Zm0 220h160v-160H400v160ZM180-400h160v-160H180v160Zm440 0h160v-160H620v160ZM180-180h160v-160H180v160Zm440 0h160v-160H620v160Z\"/>\n",
              "  </svg>\n",
              "    </button>\n",
              "\n",
              "  <style>\n",
              "    .colab-df-container {\n",
              "      display:flex;\n",
              "      gap: 12px;\n",
              "    }\n",
              "\n",
              "    .colab-df-convert {\n",
              "      background-color: #E8F0FE;\n",
              "      border: none;\n",
              "      border-radius: 50%;\n",
              "      cursor: pointer;\n",
              "      display: none;\n",
              "      fill: #1967D2;\n",
              "      height: 32px;\n",
              "      padding: 0 0 0 0;\n",
              "      width: 32px;\n",
              "    }\n",
              "\n",
              "    .colab-df-convert:hover {\n",
              "      background-color: #E2EBFA;\n",
              "      box-shadow: 0px 1px 2px rgba(60, 64, 67, 0.3), 0px 1px 3px 1px rgba(60, 64, 67, 0.15);\n",
              "      fill: #174EA6;\n",
              "    }\n",
              "\n",
              "    .colab-df-buttons div {\n",
              "      margin-bottom: 4px;\n",
              "    }\n",
              "\n",
              "    [theme=dark] .colab-df-convert {\n",
              "      background-color: #3B4455;\n",
              "      fill: #D2E3FC;\n",
              "    }\n",
              "\n",
              "    [theme=dark] .colab-df-convert:hover {\n",
              "      background-color: #434B5C;\n",
              "      box-shadow: 0px 1px 3px 1px rgba(0, 0, 0, 0.15);\n",
              "      filter: drop-shadow(0px 1px 2px rgba(0, 0, 0, 0.3));\n",
              "      fill: #FFFFFF;\n",
              "    }\n",
              "  </style>\n",
              "\n",
              "    <script>\n",
              "      const buttonEl =\n",
              "        document.querySelector('#df-6863d5ff-ee24-4f40-90e8-81baf41c833f button.colab-df-convert');\n",
              "      buttonEl.style.display =\n",
              "        google.colab.kernel.accessAllowed ? 'block' : 'none';\n",
              "\n",
              "      async function convertToInteractive(key) {\n",
              "        const element = document.querySelector('#df-6863d5ff-ee24-4f40-90e8-81baf41c833f');\n",
              "        const dataTable =\n",
              "          await google.colab.kernel.invokeFunction('convertToInteractive',\n",
              "                                                    [key], {});\n",
              "        if (!dataTable) return;\n",
              "\n",
              "        const docLinkHtml = 'Like what you see? Visit the ' +\n",
              "          '<a target=\"_blank\" href=https://colab.research.google.com/notebooks/data_table.ipynb>data table notebook</a>'\n",
              "          + ' to learn more about interactive tables.';\n",
              "        element.innerHTML = '';\n",
              "        dataTable['output_type'] = 'display_data';\n",
              "        await google.colab.output.renderOutput(dataTable, element);\n",
              "        const docLink = document.createElement('div');\n",
              "        docLink.innerHTML = docLinkHtml;\n",
              "        element.appendChild(docLink);\n",
              "      }\n",
              "    </script>\n",
              "  </div>\n",
              "\n",
              "\n",
              "<div id=\"df-762c9459-ae27-4e0f-9ced-c6f8d3063b26\">\n",
              "  <button class=\"colab-df-quickchart\" onclick=\"quickchart('df-762c9459-ae27-4e0f-9ced-c6f8d3063b26')\"\n",
              "            title=\"Suggest charts\"\n",
              "            style=\"display:none;\">\n",
              "\n",
              "<svg xmlns=\"http://www.w3.org/2000/svg\" height=\"24px\"viewBox=\"0 0 24 24\"\n",
              "     width=\"24px\">\n",
              "    <g>\n",
              "        <path d=\"M19 3H5c-1.1 0-2 .9-2 2v14c0 1.1.9 2 2 2h14c1.1 0 2-.9 2-2V5c0-1.1-.9-2-2-2zM9 17H7v-7h2v7zm4 0h-2V7h2v10zm4 0h-2v-4h2v4z\"/>\n",
              "    </g>\n",
              "</svg>\n",
              "  </button>\n",
              "\n",
              "<style>\n",
              "  .colab-df-quickchart {\n",
              "      --bg-color: #E8F0FE;\n",
              "      --fill-color: #1967D2;\n",
              "      --hover-bg-color: #E2EBFA;\n",
              "      --hover-fill-color: #174EA6;\n",
              "      --disabled-fill-color: #AAA;\n",
              "      --disabled-bg-color: #DDD;\n",
              "  }\n",
              "\n",
              "  [theme=dark] .colab-df-quickchart {\n",
              "      --bg-color: #3B4455;\n",
              "      --fill-color: #D2E3FC;\n",
              "      --hover-bg-color: #434B5C;\n",
              "      --hover-fill-color: #FFFFFF;\n",
              "      --disabled-bg-color: #3B4455;\n",
              "      --disabled-fill-color: #666;\n",
              "  }\n",
              "\n",
              "  .colab-df-quickchart {\n",
              "    background-color: var(--bg-color);\n",
              "    border: none;\n",
              "    border-radius: 50%;\n",
              "    cursor: pointer;\n",
              "    display: none;\n",
              "    fill: var(--fill-color);\n",
              "    height: 32px;\n",
              "    padding: 0;\n",
              "    width: 32px;\n",
              "  }\n",
              "\n",
              "  .colab-df-quickchart:hover {\n",
              "    background-color: var(--hover-bg-color);\n",
              "    box-shadow: 0 1px 2px rgba(60, 64, 67, 0.3), 0 1px 3px 1px rgba(60, 64, 67, 0.15);\n",
              "    fill: var(--button-hover-fill-color);\n",
              "  }\n",
              "\n",
              "  .colab-df-quickchart-complete:disabled,\n",
              "  .colab-df-quickchart-complete:disabled:hover {\n",
              "    background-color: var(--disabled-bg-color);\n",
              "    fill: var(--disabled-fill-color);\n",
              "    box-shadow: none;\n",
              "  }\n",
              "\n",
              "  .colab-df-spinner {\n",
              "    border: 2px solid var(--fill-color);\n",
              "    border-color: transparent;\n",
              "    border-bottom-color: var(--fill-color);\n",
              "    animation:\n",
              "      spin 1s steps(1) infinite;\n",
              "  }\n",
              "\n",
              "  @keyframes spin {\n",
              "    0% {\n",
              "      border-color: transparent;\n",
              "      border-bottom-color: var(--fill-color);\n",
              "      border-left-color: var(--fill-color);\n",
              "    }\n",
              "    20% {\n",
              "      border-color: transparent;\n",
              "      border-left-color: var(--fill-color);\n",
              "      border-top-color: var(--fill-color);\n",
              "    }\n",
              "    30% {\n",
              "      border-color: transparent;\n",
              "      border-left-color: var(--fill-color);\n",
              "      border-top-color: var(--fill-color);\n",
              "      border-right-color: var(--fill-color);\n",
              "    }\n",
              "    40% {\n",
              "      border-color: transparent;\n",
              "      border-right-color: var(--fill-color);\n",
              "      border-top-color: var(--fill-color);\n",
              "    }\n",
              "    60% {\n",
              "      border-color: transparent;\n",
              "      border-right-color: var(--fill-color);\n",
              "    }\n",
              "    80% {\n",
              "      border-color: transparent;\n",
              "      border-right-color: var(--fill-color);\n",
              "      border-bottom-color: var(--fill-color);\n",
              "    }\n",
              "    90% {\n",
              "      border-color: transparent;\n",
              "      border-bottom-color: var(--fill-color);\n",
              "    }\n",
              "  }\n",
              "</style>\n",
              "\n",
              "  <script>\n",
              "    async function quickchart(key) {\n",
              "      const quickchartButtonEl =\n",
              "        document.querySelector('#' + key + ' button');\n",
              "      quickchartButtonEl.disabled = true;  // To prevent multiple clicks.\n",
              "      quickchartButtonEl.classList.add('colab-df-spinner');\n",
              "      try {\n",
              "        const charts = await google.colab.kernel.invokeFunction(\n",
              "            'suggestCharts', [key], {});\n",
              "      } catch (error) {\n",
              "        console.error('Error during call to suggestCharts:', error);\n",
              "      }\n",
              "      quickchartButtonEl.classList.remove('colab-df-spinner');\n",
              "      quickchartButtonEl.classList.add('colab-df-quickchart-complete');\n",
              "    }\n",
              "    (() => {\n",
              "      let quickchartButtonEl =\n",
              "        document.querySelector('#df-762c9459-ae27-4e0f-9ced-c6f8d3063b26 button');\n",
              "      quickchartButtonEl.style.display =\n",
              "        google.colab.kernel.accessAllowed ? 'block' : 'none';\n",
              "    })();\n",
              "  </script>\n",
              "</div>\n",
              "\n",
              "    </div>\n",
              "  </div>\n"
            ]
          },
          "metadata": {},
          "execution_count": 120
        }
      ]
    },
    {
      "cell_type": "code",
      "source": [
        "print(hate_data['class'])\n",
        "# print(sexism_data['text'])\n",
        "# print(pos_data['stemmed_content'])\n"
      ],
      "metadata": {
        "colab": {
          "base_uri": "https://localhost:8080/"
        },
        "id": "pDT0SMq97ZuQ",
        "outputId": "8c38fd32-f7e1-49b6-90db-e7de565df40f"
      },
      "execution_count": 121,
      "outputs": [
        {
          "output_type": "stream",
          "name": "stdout",
          "text": [
            "44184    0\n",
            "44185    0\n",
            "44186    0\n",
            "44187    0\n",
            "44188    0\n",
            "        ..\n",
            "57810    0\n",
            "57811    0\n",
            "57812    0\n",
            "57813    0\n",
            "57814    0\n",
            "Name: class, Length: 13631, dtype: int64\n"
          ]
        }
      ]
    },
    {
      "cell_type": "code",
      "source": [
        "print(hate_data['text'])\n",
        "# print(sexism_data['sexist'])\n",
        "# print(pos_data['text'])"
      ],
      "metadata": {
        "colab": {
          "base_uri": "https://localhost:8080/"
        },
        "id": "PrQBblYAElM8",
        "outputId": "dfcea6a0-db07-4694-be8a-0e5d2cf80ee4"
      },
      "execution_count": 122,
      "outputs": [
        {
          "output_type": "stream",
          "name": "stdout",
          "text": [
            "44184               MENTIONididntevenknowrandomwasanoption\n",
            "44185                             Bottomtwoshouldvegonemkr\n",
            "44186    MENTIONMENTIONladybonerdeservessomuchmorecredi...\n",
            "44187    SheshallnowbeknownasSourpussMKRKatAndreFailedF...\n",
            "44188    TarahWthrewabunchofwomenunderthebussoshecouldg...\n",
            "                               ...                        \n",
            "57810    thisremindsmeoftheMENTIONsituationsorryiactual...\n",
            "57811    mkrIloveAnnieandloyldtherelikeareallifeDisneyc...\n",
            "57812                                  NouhttptcozOreWahSS\n",
            "57813    mkrthewaykatlooksatAnnieislikeshesstearinginto...\n",
            "57814    mkromgthekissstainsonthedirtymirrorissoootacky...\n",
            "Name: text, Length: 13631, dtype: object\n"
          ]
        }
      ]
    },
    {
      "cell_type": "code",
      "source": [
        "X1 =hate_data_cleaned['text'].values\n",
        "Y1 = hate_data_cleaned['class'].values\n",
        "\n",
        "# X2 =sexism_data['text'].values\n",
        "# Y2 =sexism_data['sexist'].values\n",
        "\n",
        "# X3 =hate_data_cleaned['text'].values\n",
        "# Y3 = hate_data_cleaned['class'].values"
      ],
      "metadata": {
        "id": "Tlmf_VbgExsG"
      },
      "execution_count": 124,
      "outputs": []
    },
    {
      "cell_type": "code",
      "source": [
        "print(X1)\n",
        "# print(X2)\n",
        "# print(X3)\n"
      ],
      "metadata": {
        "colab": {
          "base_uri": "https://localhost:8080/"
        },
        "id": "qWTopmTkFfeW",
        "outputId": "b75b3e0a-848b-4823-ece2-b757a8af0f1a"
      },
      "execution_count": 125,
      "outputs": [
        {
          "output_type": "stream",
          "name": "stdout",
          "text": [
            "['MENTIONididntevenknowrandomwasanoption' 'Bottomtwoshouldvegonemkr'\n",
            " 'MENTIONMENTIONladybonerdeservessomuchmorecreditthandudebonerbonerdebatereddetails'\n",
            " ... 'NouhttptcozOreWahSS'\n",
            " 'mkrthewaykatlooksatAnnieislikeshesstearingintohersoulitsjustcreepy'\n",
            " 'mkromgthekissstainsonthedirtymirrorissoootackyOhmygod']\n"
          ]
        }
      ]
    },
    {
      "cell_type": "code",
      "source": [
        "print(Y1)\n",
        "# print(Y2)\n",
        "# print(Y3)"
      ],
      "metadata": {
        "colab": {
          "base_uri": "https://localhost:8080/"
        },
        "id": "CzMF7dXgFmq8",
        "outputId": "4c6f6908-aec5-4977-a483-11c14f72f4b9"
      },
      "execution_count": 126,
      "outputs": [
        {
          "output_type": "stream",
          "name": "stdout",
          "text": [
            "[0 0 0 ... 0 0 0]\n"
          ]
        }
      ]
    },
    {
      "cell_type": "code",
      "source": [
        "X1_train,X1_test,Y1_train,Y1_test = train_test_split(X1, Y1, test_size = 0.2, stratify=Y1, random_state=2)\n",
        "# X2_train,X2_test,Y2_train,Y2_test = train_test_split(X2, Y2, test_size = 0.2, stratify=Y2, random_state=2)\n",
        "# X3_train,X3_test,Y3_train,Y3_test = train_test_split(X3, Y3, test_size = 0.2, stratify=Y3, random_state=2)"
      ],
      "metadata": {
        "id": "F9Z-ShllF7YK"
      },
      "execution_count": 127,
      "outputs": []
    },
    {
      "cell_type": "code",
      "source": [
        "print(X1.shape, X1_train.shape, X1_test.shape)\n",
        "# print(X2.shape, X2_train.shape, X2_test.shape)\n",
        "# print(X3.shape, X3_train.shape, X3_test.shape)"
      ],
      "metadata": {
        "colab": {
          "base_uri": "https://localhost:8080/"
        },
        "id": "7n52ifeWGQSP",
        "outputId": "966cc544-c50e-4258-ad4c-7927aac2b342"
      },
      "execution_count": 128,
      "outputs": [
        {
          "output_type": "stream",
          "name": "stdout",
          "text": [
            "(13631,) (10904,) (2727,)\n"
          ]
        }
      ]
    },
    {
      "cell_type": "code",
      "source": [
        "print(X1_train)\n",
        "# print(X2_train)\n",
        "# print(X3_train)"
      ],
      "metadata": {
        "colab": {
          "base_uri": "https://localhost:8080/"
        },
        "id": "PPQDshU-GdVP",
        "outputId": "f8f634b8-a1ed-4ef1-8006-ad3dcc4d7ea6"
      },
      "execution_count": 129,
      "outputs": [
        {
          "output_type": "stream",
          "name": "stdout",
          "text": [
            "['Womenaregenerallyassmartasmen' 'Amanshouldwearthepantsinthefamily'\n",
            " 'justrobertfromMKRhttpstcoznVWHV' ...\n",
            " 'roflheyguysguysGUYSIvegotsomethingtomakeyougiggleggautoblockerviolatestheLoganActhttpstcoBYfyjSuzlv'\n",
            " 'MENTIONMENTIONMENTIONMENTIONMENTIONstillaselloutstillunacceptableanddisgusting'\n",
            " 'ImreallyhappythattherearechicksanddudehostingESPNscollegefootballshowAmIrightMENTION']\n"
          ]
        }
      ]
    },
    {
      "cell_type": "code",
      "source": [
        "print(X1_test)\n",
        "# print(X2_test)\n",
        "# print(X3_test)"
      ],
      "metadata": {
        "colab": {
          "base_uri": "https://localhost:8080/"
        },
        "id": "Wrxp33wFGgvm",
        "outputId": "761941a8-07c0-4fb5-8fcc-0e9686512e72"
      },
      "execution_count": 130,
      "outputs": [
        {
          "output_type": "stream",
          "name": "stdout",
          "text": [
            "['Therearemanyjobsinwhichmenshouldbegivenpreferenceoverwomeninbeinghiredorbeingpromoted'\n",
            " 'TwittermakesmelaughBetterthantheseriesVeryfunnyMKR'\n",
            " 'RTMENTIONThorisunworthyofMjolnirsonooneistakinghisplaceThatisbullsheeeeeit'\n",
            " ... 'Happytowatchmylastepisodeofmkrfuckenoverit'\n",
            " 'WelldoneKatyouliterallycheatedyourwayinyeahgoyouYoullbeoutthefirsttimeyouhavetocookagainstrealcooksMKR'\n",
            " 'MENTIONMakeliberaluseoftheblockbuttonandthinkofthekindredspiritnoddingvigorouslywhilereadingtheTL']\n"
          ]
        }
      ]
    },
    {
      "cell_type": "code",
      "source": [
        "# vectorizer = TfidfVectorizer()\n",
        "# # X_train = vectorizer.fit_transform(X_train)\n",
        "# # X_test = vectorizer.transform(X_test)\n",
        "# X_train = [str(x) for x in X_train]\n",
        "# X_test = [str(x) for x in X_test]\n",
        "# X_train_transformed = vectorizer.fit_transform(X_train)\n",
        "# X_test_transformed = vectorizer.transform(X_test)\n"
      ],
      "metadata": {
        "id": "v1th9uO2GkcD",
        "colab": {
          "base_uri": "https://localhost:8080/",
          "height": 245
        },
        "outputId": "f0624d79-6215-438b-b880-059ddf5ace59"
      },
      "execution_count": 131,
      "outputs": [
        {
          "output_type": "error",
          "ename": "NameError",
          "evalue": "name 'X_train' is not defined",
          "traceback": [
            "\u001b[0;31m---------------------------------------------------------------------------\u001b[0m",
            "\u001b[0;31mNameError\u001b[0m                                 Traceback (most recent call last)",
            "\u001b[0;32m<ipython-input-131-e80aff33f5ba>\u001b[0m in \u001b[0;36m<cell line: 4>\u001b[0;34m()\u001b[0m\n\u001b[1;32m      2\u001b[0m \u001b[0;31m# X_train = vectorizer.fit_transform(X_train)\u001b[0m\u001b[0;34m\u001b[0m\u001b[0;34m\u001b[0m\u001b[0m\n\u001b[1;32m      3\u001b[0m \u001b[0;31m# X_test = vectorizer.transform(X_test)\u001b[0m\u001b[0;34m\u001b[0m\u001b[0;34m\u001b[0m\u001b[0m\n\u001b[0;32m----> 4\u001b[0;31m \u001b[0mX_train\u001b[0m \u001b[0;34m=\u001b[0m \u001b[0;34m[\u001b[0m\u001b[0mstr\u001b[0m\u001b[0;34m(\u001b[0m\u001b[0mx\u001b[0m\u001b[0;34m)\u001b[0m \u001b[0;32mfor\u001b[0m \u001b[0mx\u001b[0m \u001b[0;32min\u001b[0m \u001b[0mX_train\u001b[0m\u001b[0;34m]\u001b[0m\u001b[0;34m\u001b[0m\u001b[0;34m\u001b[0m\u001b[0m\n\u001b[0m\u001b[1;32m      5\u001b[0m \u001b[0mX_test\u001b[0m \u001b[0;34m=\u001b[0m \u001b[0;34m[\u001b[0m\u001b[0mstr\u001b[0m\u001b[0;34m(\u001b[0m\u001b[0mx\u001b[0m\u001b[0;34m)\u001b[0m \u001b[0;32mfor\u001b[0m \u001b[0mx\u001b[0m \u001b[0;32min\u001b[0m \u001b[0mX_test\u001b[0m\u001b[0;34m]\u001b[0m\u001b[0;34m\u001b[0m\u001b[0;34m\u001b[0m\u001b[0m\n\u001b[1;32m      6\u001b[0m \u001b[0mX_train_transformed\u001b[0m \u001b[0;34m=\u001b[0m \u001b[0mvectorizer\u001b[0m\u001b[0;34m.\u001b[0m\u001b[0mfit_transform\u001b[0m\u001b[0;34m(\u001b[0m\u001b[0mX_train\u001b[0m\u001b[0;34m)\u001b[0m\u001b[0;34m\u001b[0m\u001b[0;34m\u001b[0m\u001b[0m\n",
            "\u001b[0;31mNameError\u001b[0m: name 'X_train' is not defined"
          ]
        }
      ]
    },
    {
      "cell_type": "code",
      "source": [
        "vectorizer = TfidfVectorizer()\n",
        "# X1_train = vectorizer.fit_transform(X1_train)\n",
        "# X1_test = vectorizer.transform(X1_test)\n",
        "\n",
        "X1_train = [str(x) for x in X1_train]\n",
        "X1_test = [str(x) for x in X1_test]\n",
        "X1_train_transformed = vectorizer.fit_transform(X1_train)\n",
        "X1_test_transformed = vectorizer.transform(X1_test)\n",
        "\n",
        "\n",
        "# X2_train = [str(x) for x in X2_train]\n",
        "# X2_test = [str(x) for x in X2_test]\n",
        "# X2_train_transformed = vectorizer.fit_transform(X2_train)\n",
        "# X2_test_transformed = vectorizer.transform(X2_test)\n",
        "\n",
        "\n",
        "# X3_train = [str(x) for x in X3_train]\n",
        "# X3_test = [str(x) for x in X3_test]\n",
        "# X3_train_transformed = vectorizer.fit_transform(X3_train)\n",
        "# X3_test_transformed = vectorizer.transform(X3_test)\n"
      ],
      "metadata": {
        "id": "6R-rn5fCbLRM"
      },
      "execution_count": 132,
      "outputs": []
    },
    {
      "cell_type": "code",
      "source": [
        "print(X1_train_transformed)\n",
        "# print(X2_train_transformed)\n",
        "# print(X3_train_transformed)\n"
      ],
      "metadata": {
        "colab": {
          "base_uri": "https://localhost:8080/"
        },
        "id": "r4MNOsavSSYY",
        "outputId": "8cfe46e0-f188-4fad-a837-ec95c75a2445"
      },
      "execution_count": 133,
      "outputs": [
        {
          "output_type": "stream",
          "name": "stdout",
          "text": [
            "  (0, 10137)\t1.0\n",
            "  (1, 241)\t1.0\n",
            "  (2, 3571)\t1.0\n",
            "  (3, 10260)\t1.0\n",
            "  (4, 6146)\t1.0\n",
            "  (5, 3773)\t1.0\n",
            "  (6, 7889)\t1.0\n",
            "  (7, 6306)\t1.0\n",
            "  (8, 4733)\t1.0\n",
            "  (9, 934)\t1.0\n",
            "  (10, 1384)\t1.0\n",
            "  (11, 4510)\t1.0\n",
            "  (12, 10564)\t1.0\n",
            "  (13, 9413)\t1.0\n",
            "  (14, 173)\t1.0\n",
            "  (15, 149)\t1.0\n",
            "  (16, 8074)\t1.0\n",
            "  (17, 5773)\t1.0\n",
            "  (18, 5844)\t1.0\n",
            "  (19, 5486)\t1.0\n",
            "  (20, 2986)\t1.0\n",
            "  (21, 4891)\t1.0\n",
            "  (22, 7780)\t1.0\n",
            "  (23, 689)\t1.0\n",
            "  (24, 3452)\t1.0\n",
            "  :\t:\n",
            "  (10879, 8706)\t1.0\n",
            "  (10880, 1108)\t1.0\n",
            "  (10881, 4166)\t1.0\n",
            "  (10882, 5274)\t1.0\n",
            "  (10883, 6703)\t1.0\n",
            "  (10884, 9468)\t1.0\n",
            "  (10885, 5724)\t1.0\n",
            "  (10886, 348)\t1.0\n",
            "  (10887, 9523)\t1.0\n",
            "  (10888, 8458)\t1.0\n",
            "  (10889, 111)\t1.0\n",
            "  (10890, 3271)\t1.0\n",
            "  (10891, 8003)\t1.0\n",
            "  (10892, 9714)\t1.0\n",
            "  (10893, 9373)\t1.0\n",
            "  (10894, 10215)\t1.0\n",
            "  (10895, 243)\t1.0\n",
            "  (10896, 2622)\t1.0\n",
            "  (10897, 1029)\t1.0\n",
            "  (10898, 5887)\t1.0\n",
            "  (10899, 5169)\t1.0\n",
            "  (10900, 7533)\t1.0\n",
            "  (10901, 8084)\t1.0\n",
            "  (10902, 5639)\t1.0\n",
            "  (10903, 2723)\t1.0\n"
          ]
        }
      ]
    },
    {
      "cell_type": "code",
      "source": [
        "model = LogisticRegression(max_iter=1000)\n",
        "model.fit(X1_train_transformed, Y1_train)\n",
        "\n",
        "# model = LogisticRegression(max_iter=1000)\n",
        "# model.fit(X2_train_transformed, Y2_train)\n",
        "\n",
        "# model = LogisticRegression(max_iter=1000)\n",
        "# model.fit(X3_train_transformed, Y3_train)"
      ],
      "metadata": {
        "colab": {
          "base_uri": "https://localhost:8080/",
          "height": 74
        },
        "id": "2r9kWLRIQ7wz",
        "outputId": "c5a9f456-dc05-4c7e-ff5f-0b4ce51855bb"
      },
      "execution_count": 134,
      "outputs": [
        {
          "output_type": "execute_result",
          "data": {
            "text/plain": [
              "LogisticRegression(max_iter=1000)"
            ],
            "text/html": [
              "<style>#sk-container-id-2 {color: black;background-color: white;}#sk-container-id-2 pre{padding: 0;}#sk-container-id-2 div.sk-toggleable {background-color: white;}#sk-container-id-2 label.sk-toggleable__label {cursor: pointer;display: block;width: 100%;margin-bottom: 0;padding: 0.3em;box-sizing: border-box;text-align: center;}#sk-container-id-2 label.sk-toggleable__label-arrow:before {content: \"▸\";float: left;margin-right: 0.25em;color: #696969;}#sk-container-id-2 label.sk-toggleable__label-arrow:hover:before {color: black;}#sk-container-id-2 div.sk-estimator:hover label.sk-toggleable__label-arrow:before {color: black;}#sk-container-id-2 div.sk-toggleable__content {max-height: 0;max-width: 0;overflow: hidden;text-align: left;background-color: #f0f8ff;}#sk-container-id-2 div.sk-toggleable__content pre {margin: 0.2em;color: black;border-radius: 0.25em;background-color: #f0f8ff;}#sk-container-id-2 input.sk-toggleable__control:checked~div.sk-toggleable__content {max-height: 200px;max-width: 100%;overflow: auto;}#sk-container-id-2 input.sk-toggleable__control:checked~label.sk-toggleable__label-arrow:before {content: \"▾\";}#sk-container-id-2 div.sk-estimator input.sk-toggleable__control:checked~label.sk-toggleable__label {background-color: #d4ebff;}#sk-container-id-2 div.sk-label input.sk-toggleable__control:checked~label.sk-toggleable__label {background-color: #d4ebff;}#sk-container-id-2 input.sk-hidden--visually {border: 0;clip: rect(1px 1px 1px 1px);clip: rect(1px, 1px, 1px, 1px);height: 1px;margin: -1px;overflow: hidden;padding: 0;position: absolute;width: 1px;}#sk-container-id-2 div.sk-estimator {font-family: monospace;background-color: #f0f8ff;border: 1px dotted black;border-radius: 0.25em;box-sizing: border-box;margin-bottom: 0.5em;}#sk-container-id-2 div.sk-estimator:hover {background-color: #d4ebff;}#sk-container-id-2 div.sk-parallel-item::after {content: \"\";width: 100%;border-bottom: 1px solid gray;flex-grow: 1;}#sk-container-id-2 div.sk-label:hover label.sk-toggleable__label {background-color: #d4ebff;}#sk-container-id-2 div.sk-serial::before {content: \"\";position: absolute;border-left: 1px solid gray;box-sizing: border-box;top: 0;bottom: 0;left: 50%;z-index: 0;}#sk-container-id-2 div.sk-serial {display: flex;flex-direction: column;align-items: center;background-color: white;padding-right: 0.2em;padding-left: 0.2em;position: relative;}#sk-container-id-2 div.sk-item {position: relative;z-index: 1;}#sk-container-id-2 div.sk-parallel {display: flex;align-items: stretch;justify-content: center;background-color: white;position: relative;}#sk-container-id-2 div.sk-item::before, #sk-container-id-2 div.sk-parallel-item::before {content: \"\";position: absolute;border-left: 1px solid gray;box-sizing: border-box;top: 0;bottom: 0;left: 50%;z-index: -1;}#sk-container-id-2 div.sk-parallel-item {display: flex;flex-direction: column;z-index: 1;position: relative;background-color: white;}#sk-container-id-2 div.sk-parallel-item:first-child::after {align-self: flex-end;width: 50%;}#sk-container-id-2 div.sk-parallel-item:last-child::after {align-self: flex-start;width: 50%;}#sk-container-id-2 div.sk-parallel-item:only-child::after {width: 0;}#sk-container-id-2 div.sk-dashed-wrapped {border: 1px dashed gray;margin: 0 0.4em 0.5em 0.4em;box-sizing: border-box;padding-bottom: 0.4em;background-color: white;}#sk-container-id-2 div.sk-label label {font-family: monospace;font-weight: bold;display: inline-block;line-height: 1.2em;}#sk-container-id-2 div.sk-label-container {text-align: center;}#sk-container-id-2 div.sk-container {/* jupyter's `normalize.less` sets `[hidden] { display: none; }` but bootstrap.min.css set `[hidden] { display: none !important; }` so we also need the `!important` here to be able to override the default hidden behavior on the sphinx rendered scikit-learn.org. See: https://github.com/scikit-learn/scikit-learn/issues/21755 */display: inline-block !important;position: relative;}#sk-container-id-2 div.sk-text-repr-fallback {display: none;}</style><div id=\"sk-container-id-2\" class=\"sk-top-container\"><div class=\"sk-text-repr-fallback\"><pre>LogisticRegression(max_iter=1000)</pre><b>In a Jupyter environment, please rerun this cell to show the HTML representation or trust the notebook. <br />On GitHub, the HTML representation is unable to render, please try loading this page with nbviewer.org.</b></div><div class=\"sk-container\" hidden><div class=\"sk-item\"><div class=\"sk-estimator sk-toggleable\"><input class=\"sk-toggleable__control sk-hidden--visually\" id=\"sk-estimator-id-2\" type=\"checkbox\" checked><label for=\"sk-estimator-id-2\" class=\"sk-toggleable__label sk-toggleable__label-arrow\">LogisticRegression</label><div class=\"sk-toggleable__content\"><pre>LogisticRegression(max_iter=1000)</pre></div></div></div></div></div>"
            ]
          },
          "metadata": {},
          "execution_count": 134
        }
      ]
    },
    {
      "cell_type": "code",
      "source": [
        "X1_train_prediction = model.predict(X1_train_transformed)\n",
        "training_data_accuracy1 = accuracy_score(Y1_train, X1_train_prediction)\n",
        "\n",
        "# X2_train_prediction = model.predict(X2_train_transformed)\n",
        "# training_data_accuracy2 = accuracy_score(Y2_train, X2_train_prediction)\n",
        "\n",
        "# X3_train_prediction = model.predict(X3_train_transformed)\n",
        "# training_data_accuracy3 = accuracy_score(Y3_train, X3_train_prediction)\n"
      ],
      "metadata": {
        "id": "EaxL4wq7RMja"
      },
      "execution_count": 135,
      "outputs": []
    },
    {
      "cell_type": "code",
      "source": [
        "print(training_data_accuracy1)\n",
        "# print(training_data_accuracy2)\n",
        "# print(training_data_accuracy3)"
      ],
      "metadata": {
        "colab": {
          "base_uri": "https://localhost:8080/"
        },
        "id": "fFub4u2ASeZ0",
        "outputId": "f119e09c-87a6-4e96-c8a1-a8994f3d473a"
      },
      "execution_count": 136,
      "outputs": [
        {
          "output_type": "stream",
          "name": "stdout",
          "text": [
            "0.8672964049889949\n"
          ]
        }
      ]
    },
    {
      "cell_type": "code",
      "source": [
        "X1_test_prediction = model.predict(X1_test_transformed)\n",
        "test_data_accuracy1 = accuracy_score(Y1_test, X1_test_prediction)\n",
        "print(test_data_accuracy1)\n",
        "\n",
        "# X2_test_prediction = model.predict(X2_test_transformed)\n",
        "# test_data_accuracy2 = accuracy_score(Y2_test, X2_test_prediction)\n",
        "# print(test_data_accuracy2)\n",
        "\n",
        "# X3_test_prediction = model.predict(X3_test_transformed)\n",
        "# test_data_accuracy3 = accuracy_score(Y3_test, X3_test_prediction)\n",
        "# print(test_data_accuracy3)"
      ],
      "metadata": {
        "colab": {
          "base_uri": "https://localhost:8080/"
        },
        "id": "m6m38Tq-SoBp",
        "outputId": "71ce9e95-6fe1-4333-bb98-f33a913d9e11"
      },
      "execution_count": 138,
      "outputs": [
        {
          "output_type": "stream",
          "name": "stdout",
          "text": [
            "0.8672533920058673\n"
          ]
        }
      ]
    },
    {
      "cell_type": "code",
      "source": [
        "import pickle"
      ],
      "metadata": {
        "id": "b3yZKDsFduJd"
      },
      "execution_count": 139,
      "outputs": []
    },
    {
      "cell_type": "code",
      "source": [
        "# filename = 'Tranined_model2_sexism.sav'\n",
        "# pickle.dump(model, open(filename, 'wb'))"
      ],
      "metadata": {
        "id": "trO_9uOCeP6c"
      },
      "execution_count": null,
      "outputs": []
    },
    {
      "cell_type": "code",
      "source": [
        "# with open('Tranined_model2_sexism.pkl', 'wb') as file:\n",
        "#   pickle.dump(model, file)"
      ],
      "metadata": {
        "id": "7kbWbeXAlzAB"
      },
      "execution_count": null,
      "outputs": []
    },
    {
      "cell_type": "code",
      "source": [
        "with open('Tranined_model.pkl', 'wb') as file:\n",
        "  pickle.dump(model, file)"
      ],
      "metadata": {
        "id": "k7kvegpJpl_-"
      },
      "execution_count": 140,
      "outputs": []
    }
  ]
}